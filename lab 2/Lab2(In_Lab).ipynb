{
  "nbformat": 4,
  "nbformat_minor": 0,
  "metadata": {
    "colab": {
      "provenance": [],
      "include_colab_link": true
    },
    "kernelspec": {
      "name": "python3",
      "display_name": "Python 3"
    },
    "language_info": {
      "name": "python"
    }
  },
  "cells": [
    {
      "cell_type": "markdown",
      "metadata": {
        "id": "view-in-github",
        "colab_type": "text"
      },
      "source": [
        "<a href=\"https://colab.research.google.com/github/ranishrocks/cs367-ai-lab/blob/main/lab%202/Lab2(In_Lab).ipynb\" target=\"_parent\"><img src=\"https://colab.research.google.com/assets/colab-badge.svg\" alt=\"Open In Colab\"/></a>"
      ]
    },
    {
      "cell_type": "markdown",
      "source": [
        "# Pseudocode and Flow Chart"
      ],
      "metadata": {
        "id": "b-d-pjf-c0ox"
      }
    },
    {
      "cell_type": "markdown",
      "source": [
        "Pseudo Code"
      ],
      "metadata": {
        "id": "76uxZ5hDdEKn"
      }
    },
    {
      "cell_type": "code",
      "source": [
        "function GraphSearch(problem):\n",
        "    frontier = Queue(problem.initial_state)\n",
        "    explored = Set()\n",
        "\n",
        "    while frontier is not empty:\n",
        "        node = frontier.remove()\n",
        "        if problem.is_goal(node.state):\n",
        "            return Solution(node)\n",
        "        explored.add(node.state)\n",
        "\n",
        "        for action in problem.actions(node.state):\n",
        "            child = ChildNode(problem, node, action)\n",
        "            if child.state not in explored and child not in frontier:\n",
        "                frontier.add(child)\n",
        "\n",
        "    return Failure"
      ],
      "metadata": {
        "id": "VzdGjhjXc67i"
      },
      "execution_count": null,
      "outputs": []
    },
    {
      "cell_type": "markdown",
      "source": [
        "Flow Chart"
      ],
      "metadata": {
        "id": "Fe7A249ZkiIO"
      }
    },
    {
      "cell_type": "markdown",
      "source": [
        "![mermaid-diagram-2024-09-28-221649.png](data:image/png;base64,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)"
      ],
      "metadata": {
        "id": "xQyZV-6cf-zN"
      }
    },
    {
      "cell_type": "markdown",
      "source": [
        "Implementation details and reasons:\n",
        "\n",
        "\n",
        "*   We use a queue for the frontier to implement a breadth-first search.This ensures we find the shallowest goal state first.\n",
        "*   We use a set for the explored states to allow for quick lookups, preventing revisiting of states.\n",
        "*   We check if a node is the goal state before exploring it, which can save time in some cases.\n",
        "*   We only add a child to the frontier if it's not been explored and is not already in the frontier, preventing unnecessary work.\n",
        "\n",
        "\n",
        "\n",
        "\n",
        "\n",
        "\n",
        "\n"
      ],
      "metadata": {
        "id": "Bqrhg14vdIBf"
      }
    },
    {
      "cell_type": "markdown",
      "source": [
        "# Functions imitating the environment for Puzzle-8"
      ],
      "metadata": {
        "id": "jT6TQrr0d7b6"
      }
    },
    {
      "cell_type": "code",
      "source": [
        "from collections import deque\n",
        "class Puzzle8:\n",
        "    def __init__(self, initial_state):\n",
        "        self.initial_state = initial_state\n",
        "        self.goal_state = [1, 2, 3, 4, 5, 6, 7, 8, 0]  # 0 represents the empty tile\n",
        "\n",
        "    def is_goal(self, state):\n",
        "        return state == self.goal_state\n",
        "\n",
        "    def actions(self, state):\n",
        "        actions = []\n",
        "        empty_index = state.index(0)\n",
        "        row, col = empty_index // 3, empty_index % 3\n",
        "\n",
        "        if row > 0: actions.append('UP')\n",
        "        if row < 2: actions.append('DOWN')\n",
        "        if col > 0: actions.append('LEFT')\n",
        "        if col < 2: actions.append('RIGHT')\n",
        "\n",
        "        return actions\n",
        "\n",
        "    def result(self, state, action):\n",
        "        new_state = state.copy()\n",
        "        empty_index = state.index(0)\n",
        "\n",
        "        if action == 'UP':\n",
        "            new_state[empty_index], new_state[empty_index - 3] = new_state[empty_index - 3], new_state[empty_index]\n",
        "        elif action == 'DOWN':\n",
        "            new_state[empty_index], new_state[empty_index + 3] = new_state[empty_index + 3], new_state[empty_index]\n",
        "        elif action == 'LEFT':\n",
        "            new_state[empty_index], new_state[empty_index - 1] = new_state[empty_index - 1], new_state[empty_index]\n",
        "        elif action == 'RIGHT':\n",
        "            new_state[empty_index], new_state[empty_index + 1] = new_state[empty_index + 1], new_state[empty_index]\n",
        "\n",
        "        return new_state\n",
        "\n",
        "    def cost(self, state, action):\n",
        "        return 1  # Uniform cost for all actions\n",
        "\n",
        "class Node:\n",
        "    def __init__(self, state, parent=None, action=None, path_cost=0):\n",
        "        self.state = state\n",
        "        self.parent = parent\n",
        "        self.action = action\n",
        "        self.path_cost = path_cost\n",
        "\n",
        "def graph_search(problem):\n",
        "    node = Node(problem.initial_state)\n",
        "    if problem.is_goal(node.state):\n",
        "        return node\n",
        "    frontier = deque([node])\n",
        "    explored = set()\n",
        "\n",
        "    while frontier:\n",
        "        node = frontier.popleft()\n",
        "        explored.add(tuple(node.state))\n",
        "\n",
        "        for action in problem.actions(node.state):\n",
        "            child_state = problem.result(node.state, action)\n",
        "            child = Node(child_state, node, action, node.path_cost + problem.cost(node.state, action))\n",
        "            if problem.is_goal(child.state):\n",
        "                return child\n",
        "            if tuple(child.state) not in explored and child not in frontier:\n",
        "                frontier.append(child)\n",
        "\n",
        "    return None"
      ],
      "metadata": {
        "id": "RbAU6QgrdyCM"
      },
      "execution_count": null,
      "outputs": []
    },
    {
      "cell_type": "markdown",
      "source": [
        "# Iterative Deepening Search\n"
      ],
      "metadata": {
        "id": "F3ZnxElJeFjB"
      }
    },
    {
      "cell_type": "markdown",
      "source": [
        "Iterative Deepening Search (IDS) is a strategy that combines the space-efficiency of depth-first search with the completeness of breadth-first search. It works as follows:\n",
        "\n",
        "It starts with a depth limit of 0 and performs a depth-limited search.\n",
        "If the goal is not found, it increases the depth limit by 1 and repeats the search.\n",
        "This process continues until the goal is found or the maximum depth is reached.\n",
        "\n",
        "IDS has the following advantages:\n",
        "\n",
        "It's complete like BFS (will find a solution if one exists)\n",
        "It's optimal for unweighted graphs (finds the shallowest goal state)\n",
        "It has the space efficiency of DFS (O(bd) where b is branching factor and d is depth)\n",
        "\n",
        "The main disadvantage is that it repeats work at shallower depths, but this is often outweighed by its benefits, especially in problems with unknown or large search depths."
      ],
      "metadata": {
        "id": "3kZpbPeleOQQ"
      }
    },
    {
      "cell_type": "markdown",
      "source": [
        "# Backtracking Function"
      ],
      "metadata": {
        "id": "e77MkWp3eit7"
      }
    },
    {
      "cell_type": "code",
      "source": [
        "def backtrack_path(node):\n",
        "    path = []\n",
        "    while node:\n",
        "        path.append(node.state)\n",
        "        node = node.parent\n",
        "    return list(reversed(path))"
      ],
      "metadata": {
        "id": "NiUG6NwNeo1w"
      },
      "execution_count": null,
      "outputs": []
    },
    {
      "cell_type": "markdown",
      "source": [
        "# Generating Puzzle-8 instances\n"
      ],
      "metadata": {
        "id": "LIqGGLRSfSDQ"
      }
    },
    {
      "cell_type": "code",
      "source": [
        "import random\n",
        "\n",
        "def generate_puzzle(depth):\n",
        "    puzzle = Puzzle8([1, 2, 3, 4, 5, 6, 7, 8, 0])\n",
        "    state = puzzle.goal_state\n",
        "    for _ in range(depth):\n",
        "        action = random.choice(puzzle.actions(state))\n",
        "        state = puzzle.result(state, action)\n",
        "    return state"
      ],
      "metadata": {
        "id": "HXopTUMFfhhP"
      },
      "execution_count": null,
      "outputs": []
    },
    {
      "cell_type": "markdown",
      "source": [
        "# Table of memory and time requirements"
      ],
      "metadata": {
        "id": "TmBw7pIXfpIE"
      }
    },
    {
      "cell_type": "code",
      "source": [
        "import time\n",
        "import psutil\n",
        "import statistics\n",
        "\n",
        "def measure_performance(depths, num_instances=10):\n",
        "    results = {}\n",
        "    for d in depths:\n",
        "        times = []\n",
        "        memories = []\n",
        "        for _ in range(num_instances):\n",
        "            initial_state = generate_puzzle(d)\n",
        "            puzzle = Puzzle8(initial_state)\n",
        "\n",
        "            start_time = time.time()\n",
        "            start_memory = psutil.Process().memory_info().rss / 1024 / 1024  # in MB\n",
        "\n",
        "            solution = graph_search(puzzle)\n",
        "\n",
        "            end_time = time.time()\n",
        "            end_memory = psutil.Process().memory_info().rss / 1024 / 1024  # in MB\n",
        "\n",
        "            times.append(end_time - start_time)\n",
        "            memories.append(end_memory - start_memory)\n",
        "\n",
        "        results[d] = {\n",
        "            'avg_time': statistics.mean(times),\n",
        "            'avg_memory': statistics.mean(memories)\n",
        "        }\n",
        "\n",
        "    return results"
      ],
      "metadata": {
        "id": "fAYkFqLrfxx8"
      },
      "execution_count": null,
      "outputs": []
    },
    {
      "cell_type": "code",
      "source": [
        "def print_puzzle(state):\n",
        "    for i in range(0, 9, 3):\n",
        "        print(state[i:i+3])\n",
        "    print()\n",
        "\n",
        "# Run tests\n",
        "if __name__ == \"__main__\":\n",
        "    # Test puzzle generation and solution\n",
        "    print(\"Testing puzzle generation and solution:\")\n",
        "    for depth in [2, 4, 6, 8]:\n",
        "        initial_state = generate_puzzle(depth)\n",
        "        puzzle = Puzzle8(initial_state)\n",
        "        print(f\"Puzzle at depth {depth}:\")\n",
        "        print_puzzle(initial_state)\n",
        "\n",
        "        solution_node = graph_search(puzzle)\n",
        "        if solution_node:\n",
        "            path = backtrack_path(solution_node)\n",
        "            print(f\"Solution found in {len(path) - 1} steps\")\n",
        "        else:\n",
        "            print(\"No solution found\")\n",
        "        print()\n",
        "\n",
        "    # Measure performance\n",
        "    print(\"Measuring performance:\")\n",
        "    depths = [2, 4, 6, 8, 10]\n",
        "    results = measure_performance(depths)\n",
        "\n",
        "    print(\"| Depth | Average Time (s) | Average Memory (MB) |\")\n",
        "    print(\"|-------|------------------|---------------------|\")\n",
        "    for depth, data in results.items():\n",
        "        print(f\"| {depth:<5} | {data['avg_time']:<16.3f} | {data['avg_memory']:<19.3f} |\")\n"
      ],
      "metadata": {
        "colab": {
          "base_uri": "https://localhost:8080/"
        },
        "id": "_jsqarm1i0Ef",
        "outputId": "d0f1128c-eba5-4e9f-d911-994848768111"
      },
      "execution_count": null,
      "outputs": [
        {
          "output_type": "stream",
          "name": "stdout",
          "text": [
            "Testing puzzle generation and solution:\n",
            "Puzzle at depth 2:\n",
            "[1, 2, 3]\n",
            "[4, 5, 6]\n",
            "[0, 7, 8]\n",
            "\n",
            "Solution found in 2 steps\n",
            "\n",
            "Puzzle at depth 4:\n",
            "[1, 2, 0]\n",
            "[4, 6, 3]\n",
            "[7, 5, 8]\n",
            "\n",
            "Solution found in 4 steps\n",
            "\n",
            "Puzzle at depth 6:\n",
            "[1, 2, 3]\n",
            "[4, 0, 6]\n",
            "[7, 5, 8]\n",
            "\n",
            "Solution found in 2 steps\n",
            "\n",
            "Puzzle at depth 8:\n",
            "[1, 2, 3]\n",
            "[4, 5, 6]\n",
            "[7, 8, 0]\n",
            "\n",
            "Solution found in 0 steps\n",
            "\n",
            "Measuring performance:\n",
            "| Depth | Average Time (s) | Average Memory (MB) |\n",
            "|-------|------------------|---------------------|\n",
            "| 2     | 0.001            | 0.000               |\n",
            "| 4     | 0.000            | 0.000               |\n",
            "| 6     | 0.000            | 0.000               |\n",
            "| 8     | 0.000            | 0.000               |\n",
            "| 10    | 0.001            | 0.026               |\n"
          ]
        }
      ]
    }
  ]
}