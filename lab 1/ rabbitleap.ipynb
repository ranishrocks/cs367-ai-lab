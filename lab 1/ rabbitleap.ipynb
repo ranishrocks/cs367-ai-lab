{
  "nbformat": 4,
  "nbformat_minor": 0,
  "metadata": {
    "colab": {
      "provenance": [],
      "authorship_tag": "ABX9TyMprZsMRvQ/Z6eTwyu5V2Ne",
      "include_colab_link": true
    },
    "kernelspec": {
      "name": "python3",
      "display_name": "Python 3"
    },
    "language_info": {
      "name": "python"
    }
  },
  "cells": [
    {
      "cell_type": "markdown",
      "metadata": {
        "id": "view-in-github",
        "colab_type": "text"
      },
      "source": [
        "<a href=\"https://colab.research.google.com/github/ranishrocks/cs367-ai-lab/blob/main/lab%201/%20rabbitleap.ipynb\" target=\"_parent\"><img src=\"https://colab.research.google.com/assets/colab-badge.svg\" alt=\"Open In Colab\"/></a>"
      ]
    },
    {
      "cell_type": "code",
      "execution_count": 1,
      "metadata": {
        "colab": {
          "base_uri": "https://localhost:8080/"
        },
        "id": "gLXoUJmrXjCO",
        "outputId": "6035334e-974c-408d-8298-29ecbd32b8fc"
      },
      "outputs": [
        {
          "output_type": "stream",
          "name": "stdout",
          "text": [
            "BFS Solution:\n",
            "[1, 1, 1, 0, -1, -1, -1]\n",
            "[1, 1, 0, 1, -1, -1, -1]\n",
            "[1, 1, -1, 1, 0, -1, -1]\n",
            "[1, 1, -1, 1, -1, 0, -1]\n",
            "[1, 1, -1, 0, -1, 1, -1]\n",
            "[1, 0, -1, 1, -1, 1, -1]\n",
            "[0, 1, -1, 1, -1, 1, -1]\n",
            "[-1, 1, 0, 1, -1, 1, -1]\n",
            "[-1, 1, -1, 1, 0, 1, -1]\n",
            "[-1, 1, -1, 1, -1, 1, 0]\n",
            "[-1, 1, -1, 1, -1, 0, 1]\n",
            "[-1, 1, -1, 0, -1, 1, 1]\n",
            "[-1, 0, -1, 1, -1, 1, 1]\n",
            "[-1, -1, 0, 1, -1, 1, 1]\n",
            "[-1, -1, -1, 1, 0, 1, 1]\n",
            "[-1, -1, -1, 0, 1, 1, 1]\n",
            "\n",
            "DFS Solution:\n",
            "[1, 1, 1, 0, -1, -1, -1]\n",
            "[1, 1, 1, -1, 0, -1, -1]\n",
            "[1, 1, 0, -1, 1, -1, -1]\n",
            "[1, 0, 1, -1, 1, -1, -1]\n",
            "[1, -1, 1, 0, 1, -1, -1]\n",
            "[1, -1, 1, -1, 1, 0, -1]\n",
            "[1, -1, 1, -1, 1, -1, 0]\n",
            "[1, -1, 1, -1, 0, -1, 1]\n",
            "[1, -1, 0, -1, 1, -1, 1]\n",
            "[0, -1, 1, -1, 1, -1, 1]\n",
            "[-1, 0, 1, -1, 1, -1, 1]\n",
            "[-1, -1, 1, 0, 1, -1, 1]\n",
            "[-1, -1, 1, -1, 1, 0, 1]\n",
            "[-1, -1, 1, -1, 0, 1, 1]\n",
            "[-1, -1, 0, -1, 1, 1, 1]\n",
            "[-1, -1, -1, 0, 1, 1, 1]\n"
          ]
        }
      ],
      "source": [
        "from collections import deque\n",
        "\n",
        "def legal_moves(board):\n",
        "    moves = []\n",
        "    for pos, piece in enumerate(board):\n",
        "        jumpmove = pos + (piece * 2)\n",
        "        move = pos + (piece)\n",
        "        if piece == 0:\n",
        "            continue\n",
        "        if 0 <= jumpmove < len(board) and board[jumpmove] == 0:\n",
        "            t = list(board)\n",
        "            t[pos] = 0\n",
        "            t[jumpmove] = piece\n",
        "            moves.append(t)\n",
        "        if 0 <= move < len(board) and board[move] == 0:\n",
        "            t = list(board)\n",
        "            t[pos] = 0\n",
        "            t[move] = piece\n",
        "            moves.append(t)\n",
        "    return moves\n",
        "\n",
        "def bfs_solve(start, target):\n",
        "    queue = deque([[start]])\n",
        "    visited = set()\n",
        "    visited.add(tuple(start))\n",
        "\n",
        "    while queue:\n",
        "        path = queue.popleft()\n",
        "        current_state = path[-1]\n",
        "\n",
        "        if current_state == target:\n",
        "            return path\n",
        "\n",
        "        for next_state in legal_moves(current_state):\n",
        "            if tuple(next_state) not in visited:\n",
        "                visited.add(tuple(next_state))\n",
        "                queue.append(path + [next_state])\n",
        "\n",
        "def dfs_solve(start, target):\n",
        "    stack = [[start]]\n",
        "    visited = set()\n",
        "    visited.add(tuple(start))\n",
        "\n",
        "    while stack:\n",
        "        path = stack.pop()\n",
        "        current_state = path[-1]\n",
        "\n",
        "        if current_state == target:\n",
        "            return path\n",
        "\n",
        "        for next_state in legal_moves(current_state):\n",
        "            if tuple(next_state) not in visited:\n",
        "                visited.add(tuple(next_state))\n",
        "                stack.append(path + [next_state])\n",
        "\n",
        "# Example usage\n",
        "start_state = [1, 1, 1, 0, -1, -1, -1]\n",
        "target_state = [-1, -1, -1, 0, 1, 1, 1]\n",
        "\n",
        "# Solve using BFS (optimal solution)\n",
        "print(\"BFS Solution:\")\n",
        "solution_bfs = bfs_solve(start_state, target_state)\n",
        "if solution_bfs:\n",
        "    for step in solution_bfs:\n",
        "        print(step)\n",
        "else:\n",
        "    print(\"No solution found.\")\n",
        "\n",
        "# Solve using DFS (may not be optimal)\n",
        "print(\"\\nDFS Solution:\")\n",
        "solution_dfs = dfs_solve(start_state, target_state)\n",
        "if solution_dfs:\n",
        "    for step in solution_dfs:\n",
        "        print(step)\n",
        "else:\n",
        "    print(\"No solution found.\")\n"
      ]
    }
  ]
}