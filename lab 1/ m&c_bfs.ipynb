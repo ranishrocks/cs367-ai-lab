{
  "nbformat": 4,
  "nbformat_minor": 0,
  "metadata": {
    "colab": {
      "provenance": [],
      "authorship_tag": "ABX9TyPzN3PraROClzzzc55sWgXm",
      "include_colab_link": true
    },
    "kernelspec": {
      "name": "python3",
      "display_name": "Python 3"
    },
    "language_info": {
      "name": "python"
    }
  },
  "cells": [
    {
      "cell_type": "markdown",
      "metadata": {
        "id": "view-in-github",
        "colab_type": "text"
      },
      "source": [
        "<a href=\"https://colab.research.google.com/github/ranishrocks/cs367-ai-lab/blob/main/lab%201/%20m%26c_bfs.ipynb\" target=\"_parent\"><img src=\"https://colab.research.google.com/assets/colab-badge.svg\" alt=\"Open In Colab\"/></a>"
      ]
    },
    {
      "cell_type": "code",
      "source": [],
      "metadata": {
        "id": "F0yy0YmCRtwS"
      },
      "execution_count": null,
      "outputs": []
    },
    {
      "cell_type": "code",
      "execution_count": null,
      "metadata": {
        "colab": {
          "base_uri": "https://localhost:8080/"
        },
        "id": "AEeus-cXkp3R",
        "outputId": "8cf3911c-0fa3-4411-ac4f-0c489ae557ed"
      },
      "outputs": [
        {
          "output_type": "stream",
          "name": "stdout",
          "text": [
            "\n",
            "Reached the goal:\n",
            "Left bank: 0M, 0C\n",
            "Right bank: 3M, 3C\n",
            "Path to solution:\n",
            "Left bank: 3M, 3C | Boat at: Left\n",
            "Left bank: 3M, 1C | Boat at: Right\n",
            "Left bank: 3M, 2C | Boat at: Left\n",
            "Left bank: 3M, 0C | Boat at: Right\n",
            "Left bank: 3M, 1C | Boat at: Left\n",
            "Left bank: 1M, 1C | Boat at: Right\n",
            "Left bank: 2M, 2C | Boat at: Left\n",
            "Left bank: 0M, 2C | Boat at: Right\n",
            "Left bank: 0M, 3C | Boat at: Left\n",
            "Left bank: 0M, 1C | Boat at: Right\n",
            "Left bank: 0M, 2C | Boat at: Left\n"
          ]
        }
      ],
      "source": [
        "import sys\n",
        "from copy import deepcopy\n",
        "\n",
        "class State:\n",
        "    # positions: 0 for left bank, 1 for right bank\n",
        "    left_missionaries = 0\n",
        "    left_cannibals = 0\n",
        "    right_missionaries = 0\n",
        "    right_cannibals = 0\n",
        "    boat_position = 0  # 0 for left, 1 for right\n",
        "    depth = 0\n",
        "    path = None\n",
        "\n",
        "    def __init__(self, lm=3, lc=3, rm=0, rc=0, bp=0):\n",
        "        self.left_missionaries = lm\n",
        "        self.left_cannibals = lc\n",
        "        self.right_missionaries = rm\n",
        "        self.right_cannibals = rc\n",
        "        self.boat_position = bp\n",
        "        self.depth = 0\n",
        "        self.path = []\n",
        "\n",
        "    def f(self):  # evaluation function\n",
        "        return self.depth + h(self)\n",
        "\n",
        "def h(state):\n",
        "    # Heuristic: the number of people still on the starting side\n",
        "    return state.left_missionaries + state.left_cannibals\n",
        "\n",
        "def checkCondition(state):\n",
        "    # Check if missionaries are outnumbered by cannibals on either bank\n",
        "    if (state.left_missionaries > 0 and state.left_missionaries < state.left_cannibals) or \\\n",
        "       (state.right_missionaries > 0 and state.right_missionaries < state.right_cannibals):\n",
        "        return True\n",
        "    return False\n",
        "\n",
        "def GoalTest(state):\n",
        "    # Goal test: All missionaries and cannibals on the right bank\n",
        "    return state.left_missionaries == 0 and state.left_cannibals == 0\n",
        "\n",
        "def visited(state, searched):\n",
        "    for s in searched:\n",
        "        if (state.left_missionaries == s.left_missionaries and\n",
        "            state.left_cannibals == s.left_cannibals and\n",
        "            state.boat_position == s.boat_position):\n",
        "            return True\n",
        "    return False\n",
        "\n",
        "def expand(state, searched):\n",
        "    result = []\n",
        "    # Possible moves: 1 or 2 people can move at a time\n",
        "    for m in range(0, 3):  # 0 to 2 missionaries\n",
        "        for c in range(0, 3):  # 0 to 2 cannibals\n",
        "            if (m + c > 0) and (m + c <= 2):  # valid moves\n",
        "                if state.boat_position == 0:  # boat is on the left bank\n",
        "                    new_state = State(\n",
        "                        state.left_missionaries - m,\n",
        "                        state.left_cannibals - c,\n",
        "                        state.right_missionaries + m,\n",
        "                        state.right_cannibals + c,\n",
        "                        1\n",
        "                    )\n",
        "                else:  # boat is on the right bank\n",
        "                    new_state = State(\n",
        "                        state.left_missionaries + m,\n",
        "                        state.left_cannibals + c,\n",
        "                        state.right_missionaries - m,\n",
        "                        state.right_cannibals - c,\n",
        "                        0\n",
        "                    )\n",
        "\n",
        "                if not checkCondition(new_state) and not visited(new_state, searched):\n",
        "                    new_state.depth = state.depth + 1\n",
        "                    new_state.path = state.path + [state]\n",
        "                    result.append(new_state)\n",
        "    return result\n",
        "\n",
        "def BFS():\n",
        "    frontier = [initial]  # Open list (frontier)\n",
        "    searched = []  # Closed list\n",
        "\n",
        "    while frontier:\n",
        "        current = frontier.pop(0)  # Examine first item from frontier (FIFO)\n",
        "\n",
        "        if GoalTest(current):  # Check for goal\n",
        "            return current\n",
        "\n",
        "        searched.append(current)  # Add the current node to the visited\n",
        "        frontier.extend(expand(current, searched))  # Expand and add new states to frontier\n",
        "\n",
        "    return None  # Return None if no solution is found\n",
        "\n",
        "# Main logic\n",
        "initial = State(lm=3, lc=3, rm=0, rc=0, bp=0)  # 3 missionaries and 3 cannibals on the left bank\n",
        "goal = BFS()\n",
        "\n",
        "if goal:\n",
        "    print(\"\\nReached the goal:\")\n",
        "    print(f\"Left bank: {goal.left_missionaries}M, {goal.left_cannibals}C\")\n",
        "    print(f\"Right bank: {goal.right_missionaries}M, {goal.right_cannibals}C\")\n",
        "    print(\"Path to solution:\")\n",
        "    for state in goal.path:\n",
        "        print(f\"Left bank: {state.left_missionaries}M, {state.left_cannibals}C | Boat at: {'Left' if state.boat_position == 0 else 'Right'}\")\n",
        "else:\n",
        "    print(\"No solution found.\")\n"
      ]
    }
  ]
}