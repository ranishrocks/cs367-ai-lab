{
  "nbformat": 4,
  "nbformat_minor": 0,
  "metadata": {
    "colab": {
      "provenance": [],
      "authorship_tag": "ABX9TyNgGG97fWvSFsyoqC5is8Wg",
      "include_colab_link": true
    },
    "kernelspec": {
      "name": "python3",
      "display_name": "Python 3"
    },
    "language_info": {
      "name": "python"
    }
  },
  "cells": [
    {
      "cell_type": "markdown",
      "metadata": {
        "id": "view-in-github",
        "colab_type": "text"
      },
      "source": [
        "<a href=\"https://colab.research.google.com/github/ranishrocks/cs367-ai-lab/blob/main/lab%201/%20m%26c_dfs.ipynb\" target=\"_parent\"><img src=\"https://colab.research.google.com/assets/colab-badge.svg\" alt=\"Open In Colab\"/></a>"
      ]
    },
    {
      "cell_type": "code",
      "execution_count": null,
      "metadata": {
        "colab": {
          "base_uri": "https://localhost:8080/"
        },
        "id": "yzDE6Xrdl2wc",
        "outputId": "47798874-e96e-4da6-948b-ae1edf194861"
      },
      "outputs": [
        {
          "output_type": "stream",
          "name": "stdout",
          "text": [
            "Reached the goal!\n",
            "Final State:\n",
            "Missionaries Left: 0, Cannibals Left: 0, Boat Position: Right\n",
            "Path to goal:\n",
            "Missionaries Left: 3, Cannibals Left: 3, Boat Position: Left\n",
            "Missionaries Left: 3, Cannibals Left: 1, Boat Position: Right\n",
            "Missionaries Left: 3, Cannibals Left: 2, Boat Position: Left\n",
            "Missionaries Left: 3, Cannibals Left: 0, Boat Position: Right\n",
            "Missionaries Left: 3, Cannibals Left: 1, Boat Position: Left\n",
            "Missionaries Left: 1, Cannibals Left: 1, Boat Position: Right\n",
            "Missionaries Left: 2, Cannibals Left: 2, Boat Position: Left\n",
            "Missionaries Left: 0, Cannibals Left: 2, Boat Position: Right\n",
            "Missionaries Left: 0, Cannibals Left: 3, Boat Position: Left\n",
            "Missionaries Left: 0, Cannibals Left: 1, Boat Position: Right\n",
            "Missionaries Left: 1, Cannibals Left: 1, Boat Position: Left\n",
            "Missionaries Left: 0, Cannibals Left: 0, Boat Position: Right\n"
          ]
        }
      ],
      "source": [
        "class State:\n",
        "    def __init__(self, missionaries_left, cannibals_left, boat_position):\n",
        "        self.missionaries_left = missionaries_left\n",
        "        self.cannibals_left = cannibals_left\n",
        "        self.missionaries_right = 3 - missionaries_left\n",
        "        self.cannibals_right = 3 - cannibals_left\n",
        "        self.boat_position = boat_position  # 0 for left, 1 for right\n",
        "        self.depth = 0\n",
        "        self.path = []\n",
        "\n",
        "    def is_goal(self):\n",
        "        return self.missionaries_left == 0 and self.cannibals_left == 0\n",
        "\n",
        "    def is_valid(self):\n",
        "        # Check if the state is valid: never leave more cannibals than missionaries on either side\n",
        "        if (self.missionaries_left < 0 or self.cannibals_left < 0 or\n",
        "                self.missionaries_right < 0 or self.cannibals_right < 0):\n",
        "            return False\n",
        "        if (self.missionaries_left > 0 and self.cannibals_left > self.missionaries_left):\n",
        "            return False\n",
        "        if (self.missionaries_right > 0 and self.cannibals_right > self.missionaries_right):\n",
        "            return False\n",
        "        return True\n",
        "\n",
        "    def __eq__(self, other):\n",
        "        return (self.missionaries_left == other.missionaries_left and\n",
        "                self.cannibals_left == other.cannibals_left and\n",
        "                self.boat_position == other.boat_position)\n",
        "\n",
        "def generate_moves(state):\n",
        "    moves = []\n",
        "    if state.boat_position == 0:  # Boat is on the left side\n",
        "        # Move 1 missionary\n",
        "        if state.missionaries_left > 0:\n",
        "            moves.append(State(state.missionaries_left - 1, state.cannibals_left, 1))\n",
        "        # Move 2 missionaries\n",
        "        if state.missionaries_left > 1:\n",
        "            moves.append(State(state.missionaries_left - 2, state.cannibals_left, 1))\n",
        "        # Move 1 cannibal\n",
        "        if state.cannibals_left > 0:\n",
        "            moves.append(State(state.missionaries_left, state.cannibals_left - 1, 1))\n",
        "        # Move 2 cannibals\n",
        "        if state.cannibals_left > 1:\n",
        "            moves.append(State(state.missionaries_left, state.cannibals_left - 2, 1))\n",
        "        # Move 1 missionary and 1 cannibal\n",
        "        if state.missionaries_left > 0 and state.cannibals_left > 0:\n",
        "            moves.append(State(state.missionaries_left - 1, state.cannibals_left - 1, 1))\n",
        "    else:  # Boat is on the right side\n",
        "        # Move 1 missionary\n",
        "        if state.missionaries_right > 0:\n",
        "            moves.append(State(state.missionaries_left + 1, state.cannibals_left, 0))\n",
        "        # Move 2 missionaries\n",
        "        if state.missionaries_right > 1:\n",
        "            moves.append(State(state.missionaries_left + 2, state.cannibals_left, 0))\n",
        "        # Move 1 cannibal\n",
        "        if state.cannibals_right > 0:\n",
        "            moves.append(State(state.missionaries_left, state.cannibals_left + 1, 0))\n",
        "        # Move 2 cannibals\n",
        "        if state.cannibals_right > 1:\n",
        "            moves.append(State(state.missionaries_left, state.cannibals_left + 2, 0))\n",
        "        # Move 1 missionary and 1 cannibal\n",
        "        if state.missionaries_right > 0 and state.cannibals_right > 0:\n",
        "            moves.append(State(state.missionaries_left + 1, state.cannibals_left + 1, 0))\n",
        "\n",
        "    return [move for move in moves if move.is_valid()]\n",
        "\n",
        "def dfs(state, searched):\n",
        "    if state.is_goal():\n",
        "        return state\n",
        "\n",
        "    searched.append(state)  # Mark this state as visited\n",
        "    for move in generate_moves(state):\n",
        "        if move not in searched:\n",
        "            move.depth = state.depth + 1\n",
        "            move.path = state.path + [state]\n",
        "            result = dfs(move, searched)\n",
        "            if result:  # If a valid solution was found\n",
        "                return result\n",
        "    return None  # No solution found\n",
        "\n",
        "# Main logic\n",
        "initial_state = State(3, 3, 0)  # 3 missionaries and 3 cannibals on the left bank\n",
        "searched = []\n",
        "goal_state = dfs(initial_state, searched)\n",
        "\n",
        "# Output results\n",
        "if goal_state:\n",
        "    print(\"Reached the goal!\")\n",
        "    print(\"Final State:\")\n",
        "    print(f\"Missionaries Left: {goal_state.missionaries_left}, Cannibals Left: {goal_state.cannibals_left}, Boat Position: {'Left' if goal_state.boat_position == 0 else 'Right'}\")\n",
        "    print(\"Path to goal:\")\n",
        "    for step in goal_state.path + [goal_state]:\n",
        "        print(f\"Missionaries Left: {step.missionaries_left}, Cannibals Left: {step.cannibals_left}, Boat Position: {'Left' if step.boat_position == 0 else 'Right'}\")\n",
        "else:\n",
        "    print(\"No solution found.\")\n"
      ]
    }
  ]
}