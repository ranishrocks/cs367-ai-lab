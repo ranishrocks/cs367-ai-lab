{
  "nbformat": 4,
  "nbformat_minor": 0,
  "metadata": {
    "colab": {
      "provenance": [],
      "authorship_tag": "ABX9TyMCPRsjCdyLlQx8lyJe6Lex",
      "include_colab_link": true
    },
    "kernelspec": {
      "name": "python3",
      "display_name": "Python 3"
    },
    "language_info": {
      "name": "python"
    }
  },
  "cells": [
    {
      "cell_type": "markdown",
      "metadata": {
        "id": "view-in-github",
        "colab_type": "text"
      },
      "source": [
        "<a href=\"https://colab.research.google.com/github/ranishrocks/cs367-ai-lab/blob/main/lab%203/kstatuniform.ipynb\" target=\"_parent\"><img src=\"https://colab.research.google.com/assets/colab-badge.svg\" alt=\"Open In Colab\"/></a>"
      ]
    },
    {
      "cell_type": "code",
      "execution_count": null,
      "metadata": {
        "id": "3PEkKRZjgH94"
      },
      "outputs": [],
      "source": [
        "import random"
      ]
    },
    {
      "cell_type": "code",
      "source": [
        "def generateInstance(n, k, m):\n",
        "\n",
        "  vars = []\n",
        "  for i in range(n):\n",
        "    vars.append((chr(i + 65)))\n",
        "\n",
        "  problem = \"((\"\n",
        "  clause = []\n",
        "\n",
        "  for i in range(k * m):\n",
        "\n",
        "    x = random.choice(vars)\n",
        "    vars.remove(x)\n",
        "    clause.append(x)\n",
        "\n",
        "    if(i % k == k - 1):\n",
        "      while len(clause) != 0:\n",
        "        vars.append(clause.pop(0))\n",
        "\n",
        "    y = random.random()\n",
        "    if y < 0.5:\n",
        "      problem += \"~\"\n",
        "\n",
        "    problem += x\n",
        "\n",
        "    if i % k == k - 1 and i != (k * m - 1):\n",
        "      problem += \") and (\"\n",
        "    elif i != (k * m - 1):\n",
        "      problem += \" or \"\n",
        "\n",
        "  problem += \"))\"\n",
        "\n",
        "  return problem"
      ],
      "metadata": {
        "id": "uMPqWKBUgMO-"
      },
      "execution_count": null,
      "outputs": []
    },
    {
      "cell_type": "code",
      "source": [
        "for i in range(10):\n",
        "  print(\"Problem \", i+1, \": \", generateInstance(12, 3, 4))"
      ],
      "metadata": {
        "colab": {
          "base_uri": "https://localhost:8080/"
        },
        "id": "TqWkgWlagQaj",
        "outputId": "63fb74f0-ecf7-46d7-f5a6-ad19535a86e9"
      },
      "execution_count": null,
      "outputs": [
        {
          "output_type": "stream",
          "name": "stdout",
          "text": [
            "Problem  1 :  ((A or ~L or ~K) and (F or ~K or ~D) and (H or L or K) and (I or K or D))\n",
            "Problem  2 :  ((J or K or C) and (~G or ~A or L) and (~K or G or J) and (G or B or ~F))\n",
            "Problem  3 :  ((~H or F or J) and (~C or B or ~G) and (~H or J or ~F) and (E or ~B or H))\n",
            "Problem  4 :  ((I or ~F or ~D) and (~E or ~H or ~B) and (E or F or I) and (~H or C or G))\n",
            "Problem  5 :  ((~F or D or ~A) and (~B or ~E or G) and (L or E or I) and (~B or ~E or ~F))\n",
            "Problem  6 :  ((L or ~J or K) and (~K or E or ~H) and (K or B or H) and (~C or H or A))\n",
            "Problem  7 :  ((~H or ~G or ~L) and (~B or ~G or ~D) and (~E or H or ~F) and (J or ~E or K))\n",
            "Problem  8 :  ((D or B or ~H) and (~G or L or ~F) and (~H or ~J or L) and (F or J or G))\n",
            "Problem  9 :  ((F or ~D or L) and (A or J or I) and (A or ~F or ~E) and (~A or E or L))\n",
            "Problem  10 :  ((~H or ~K or C) and (G or I or A) and (K or ~B or ~A) and (C or B or G))\n"
          ]
        }
      ]
    }
  ]
}