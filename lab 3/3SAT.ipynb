{
  "nbformat": 4,
  "nbformat_minor": 0,
  "metadata": {
    "colab": {
      "provenance": [],
      "include_colab_link": true
    },
    "kernelspec": {
      "name": "python3",
      "display_name": "Python 3"
    },
    "language_info": {
      "name": "python"
    }
  },
  "cells": [
    {
      "cell_type": "markdown",
      "metadata": {
        "id": "view-in-github",
        "colab_type": "text"
      },
      "source": [
        "<a href=\"https://colab.research.google.com/github/ranishrocks/cs367-ai-lab/blob/main/lab%203/3SAT.ipynb\" target=\"_parent\"><img src=\"https://colab.research.google.com/assets/colab-badge.svg\" alt=\"Open In Colab\"/></a>"
      ]
    },
    {
      "cell_type": "code",
      "execution_count": null,
      "metadata": {
        "id": "F79E8gspp-24"
      },
      "outputs": [],
      "source": [
        "import random\n",
        "from queue import PriorityQueue\n",
        "\n",
        "from dataclasses import dataclass, field\n",
        "from typing import Any\n",
        "\n",
        "@dataclass(order=True)\n",
        "class PrioritizedItem:\n",
        "    priority: int\n",
        "    item: Any=field(compare=False)"
      ]
    },
    {
      "cell_type": "code",
      "source": [
        "#Function to generate an instance of k-SAT problem\n",
        "def generateInstance(n, k, m):\n",
        "\n",
        "  vars = []\n",
        "  for i in range(n):\n",
        "    vars.append((chr(i + 65)))\n",
        "\n",
        "  problem = \"((\"\n",
        "  clause = []\n",
        "\n",
        "  for i in range(k * m):\n",
        "\n",
        "    x = random.choice(vars)\n",
        "    vars.remove(x)\n",
        "    clause.append(x)\n",
        "\n",
        "    if(i % k == k - 1):\n",
        "      while len(clause) != 0:\n",
        "        vars.append(clause.pop(0))\n",
        "\n",
        "    y = random.random()\n",
        "    if y < 0.5:\n",
        "      problem += \"~\"\n",
        "\n",
        "    problem += x\n",
        "\n",
        "    if i % k == k - 1 and i != (k * m - 1):\n",
        "      problem += \") and (\"\n",
        "    elif i != (k * m - 1):\n",
        "      problem += \" or \"\n",
        "\n",
        "  problem += \"))\"\n",
        "\n",
        "  return problem"
      ],
      "metadata": {
        "id": "9DJ5BA7jqHqU"
      },
      "execution_count": null,
      "outputs": []
    },
    {
      "cell_type": "code",
      "source": [
        "# Function to generate a random assignment of variables\n",
        "def generateRandomAssignment(num_vars):\n",
        "    return [random.randint(0, 1) for _ in range(num_vars)]"
      ],
      "metadata": {
        "id": "iEn5LoCPomkA"
      },
      "execution_count": null,
      "outputs": []
    },
    {
      "cell_type": "code",
      "source": [
        "# Function to evaluate the fitness of a given assignment of variables\n",
        "def evaluate(assignment, k, variables, posOrNeg):\n",
        "    fitness = 0\n",
        "    clauseEval = 0\n",
        "\n",
        "    for i in range(len(variables)):\n",
        "      if posOrNeg[i] == 'P':\n",
        "        clauseEval = clauseEval or assignment[variables[i]]\n",
        "      else:\n",
        "        clauseEval = clauseEval or (1 - assignment[variables[i]])\n",
        "\n",
        "      if i % k == k - 1 and clauseEval == 1:\n",
        "        fitness += 1\n",
        "        clauseEval = 0\n",
        "\n",
        "    return fitness"
      ],
      "metadata": {
        "id": "sssD3uS7rhfP"
      },
      "execution_count": null,
      "outputs": []
    },
    {
      "cell_type": "markdown",
      "source": [
        "Hill Climbing"
      ],
      "metadata": {
        "id": "LItCcFx4eOSu"
      }
    },
    {
      "cell_type": "code",
      "source": [
        "#function to solve 3-SAT using hill climbing approach\n",
        "def hillClimbing(assignment, depth, k, variables, posOrNeg):\n",
        "  d = 0\n",
        "  while d < depth:\n",
        "    currentFitness = evaluate(assignment, k, variables, posOrNeg)\n",
        "\n",
        "    if(currentFitness == len(variables)):\n",
        "      return assignment\n",
        "\n",
        "    change = '0'\n",
        "\n",
        "    for c in assignment.keys():\n",
        "      neighbour = assignment.copy()\n",
        "      neighbour[c] = 1 - neighbour[c]\n",
        "\n",
        "      neighbourFitness = evaluate(neighbour, k, variables, posOrNeg)\n",
        "      if neighbourFitness > currentFitness:\n",
        "        currentFitness = neighbourFitness\n",
        "        change = c\n",
        "\n",
        "    d += 1\n",
        "    if change != '0':\n",
        "      assignment[change] = 1 - assignment[change]\n",
        "\n",
        "  return assignment"
      ],
      "metadata": {
        "id": "Y0uCKTcJt-lO"
      },
      "execution_count": null,
      "outputs": []
    },
    {
      "cell_type": "markdown",
      "source": [
        "Beam Search (beam width must be less than n)"
      ],
      "metadata": {
        "id": "YJN5F340eUrS"
      }
    },
    {
      "cell_type": "code",
      "source": [
        "#function to solve 3-SAT using Beam Search\n",
        "def beamSearch(assignment, k, variables, posOrNeg, b, steps):\n",
        "\n",
        "  beam = PriorityQueue()\n",
        "  current = assignment\n",
        "  x = evaluate(current, k, variables, posOrNeg)\n",
        "  beam.put(PrioritizedItem(-x, assignment))\n",
        "  s = 0\n",
        "\n",
        "  while (not beam.empty()) and s < steps:\n",
        "    state = beam.get()\n",
        "    current = state.item\n",
        "    x = -state.priority\n",
        "\n",
        "    if x == len(variables):\n",
        "      return current\n",
        "\n",
        "    for c in current.keys():\n",
        "      neighbour = current.copy()\n",
        "      neighbour[c] = 1 - neighbour[c]\n",
        "\n",
        "      neighbourFitness = evaluate(neighbour, k, variables, posOrNeg)\n",
        "\n",
        "      if beam.qsize() < b:\n",
        "        beam.put(PrioritizedItem(-neighbourFitness, neighbour))\n",
        "      else:\n",
        "        copy = beam.get()\n",
        "        if neighbourFitness > (-copy.priority):\n",
        "          beam.put(PrioritizedItem(-neighbourFitness, neighbour))\n",
        "        else:\n",
        "          beam.put(copy)\n",
        "\n",
        "      s += 1\n",
        "\n",
        "  return current"
      ],
      "metadata": {
        "id": "6cnzBsNa7M8e"
      },
      "execution_count": null,
      "outputs": []
    },
    {
      "cell_type": "markdown",
      "source": [
        "Variable-Neigbourhood-Descent (3 different neighbouring function)"
      ],
      "metadata": {
        "id": "7L-wLpf3ik5S"
      }
    },
    {
      "cell_type": "code",
      "source": [
        "# neigbour state is the one in which a random variable value is flipped\n",
        "def neighbour1(assignment):\n",
        "  c = random.choice(list(assignment))\n",
        "  assignment[c] = 1 - assignment[c]\n",
        "  return assignment\n"
      ],
      "metadata": {
        "id": "uPY5Lpi8i35t"
      },
      "execution_count": null,
      "outputs": []
    },
    {
      "cell_type": "code",
      "source": [
        "# neigbour state is the one in which value of any two variables is swapped\n",
        "def neighbour2(assignment):\n",
        "  c = random.choice(list(assignment))\n",
        "  d = random.choice(list(assignment))\n",
        "\n",
        "  while d == c:\n",
        "    d = random.choice(list(assignment))\n",
        "\n",
        "  x = assignment[c]\n",
        "  assignment[c] = assignment[d]\n",
        "  assignment[d] = x\n",
        "\n",
        "  return assignment"
      ],
      "metadata": {
        "id": "7zuAGGoeld7k"
      },
      "execution_count": null,
      "outputs": []
    },
    {
      "cell_type": "code",
      "source": [
        "# neigbour state is the one in which value of first variable is flipped\n",
        "def neighbour3(assignment):\n",
        "  x = list(assignment.keys())[0]\n",
        "  assignment[x] = 1 - assignment[x]\n",
        "  return assignment"
      ],
      "metadata": {
        "id": "HSvqdAn1ncCp"
      },
      "execution_count": null,
      "outputs": []
    },
    {
      "cell_type": "code",
      "source": [
        "def variableNeighbourhood(assignment, k, variables, posOrNeg, steps):\n",
        "  s = 0\n",
        "  current = assignment\n",
        "\n",
        "  while s < steps:\n",
        "    current = assignment\n",
        "    x = evaluate(assignment, k, variables, posOrNeg)\n",
        "\n",
        "    if x == len(variables):\n",
        "      return current\n",
        "\n",
        "    nbr1 = neighbour1(current.copy())\n",
        "    nbr2 = neighbour2(current.copy())\n",
        "    nbr3 = neighbour3(current.copy())\n",
        "\n",
        "    fn1 = evaluate(nbr1, k, variables, posOrNeg)\n",
        "    fn2 = evaluate(nbr2, k, variables, posOrNeg)\n",
        "    fn3 = evaluate(nbr3, k, variables, posOrNeg)\n",
        "\n",
        "    if max(fn1, fn2, fn3) > x:\n",
        "      x = max(fn1, fn2, fn3)\n",
        "      if x == fn1:\n",
        "        current = nbr1\n",
        "      elif x == fn2:\n",
        "        current = nbr2\n",
        "      else:\n",
        "        x =  nbr3\n",
        "\n",
        "    s += 1\n",
        "\n",
        "  return current\n",
        "\n",
        "    # for c in current.keys():\n",
        "    #   neighbour = current.copy()\n",
        "    #   neighbour[c] = 1 - neighbour[c]\n",
        "\n",
        "    #   neighbourFitness = evaluate(neighbour, k, variables, posOrNeg)\n",
        "\n",
        "    #   if beam.qsize() < b:\n",
        "    #     beam.put(PrioritizedItem(-neighbourFitness, neighbour))\n",
        "    #   else:\n",
        "    #     copy = beam.get()\n",
        "    #     if neighbourFitness > (-copy.priority):\n",
        "    #       beam.put(PrioritizedItem(-neighbourFitness, neighbour))\n",
        "    #     else:\n",
        "    #       beam.put(copy)\n",
        "\n"
      ],
      "metadata": {
        "id": "n338Cpddqo1R"
      },
      "execution_count": null,
      "outputs": []
    },
    {
      "cell_type": "code",
      "source": [
        "n = 25\n",
        "k = 3\n",
        "m = 1000\n",
        "problem = generateInstance(n,k,m)\n",
        "numVars = set()\n",
        "variables = []\n",
        "posOrNeg = []\n",
        "\n",
        "prevNeg = False\n",
        "\n",
        "for i in range(len(problem)):\n",
        "  if problem[i] == '~':\n",
        "    prevNeg = True\n",
        "  elif ord(problem[i]) >= 65 and ord(problem[i]) <= 90:\n",
        "    if prevNeg == True:\n",
        "      posOrNeg.append('N')\n",
        "      prevNeg = False\n",
        "    else:\n",
        "      posOrNeg.append('P')\n",
        "\n",
        "    variables.append(problem[i])\n",
        "    numVars.add(problem[i])\n",
        "\n",
        "\n",
        "values = generateRandomAssignment(len(numVars))\n",
        "startState = dict()\n",
        "\n",
        "index = 0\n",
        "for c in numVars:\n",
        "  startState[c] = values[index]\n",
        "  index += 1\n",
        "\n",
        "print(startState)\n",
        "print(\"Starting State Fitness: \", evaluate(startState, k, variables, posOrNeg))\n",
        "solution  = hillClimbing(startState.copy(), 100, k, variables, posOrNeg)\n",
        "print(\"Hill Climbing Solution Fitness: \", evaluate(solution, k, variables, posOrNeg))\n",
        "solution = beamSearch(startState.copy(), k, variables, posOrNeg, 3, 1000)\n",
        "print(\"Beam Search Solution Fitness (Beam-Width = 3): \", evaluate(solution, k, variables, posOrNeg))\n",
        "solution = beamSearch(startState.copy(), k, variables, posOrNeg, 4, 1000)\n",
        "print(\"Beam Search Solution Fitness (Beam-Width = 4): \", evaluate(solution, k, variables, posOrNeg))\n",
        "\n",
        "\n",
        "print(\"Neighbour 1: \", neighbour1(startState.copy()))\n",
        "print(\"Neighbour 2: \", neighbour2(startState.copy()))\n",
        "print(\"Neighbour 3: \", neighbour3(startState.copy()))\n",
        "\n",
        "solution = variableNeighbourhood(startState.copy(), k, variables, posOrNeg, 1000)\n",
        "print(\"Variable-Neigbourhood-Descent Fitness: \", evaluate(solution, k, variables, posOrNeg))\n"
      ],
      "metadata": {
        "colab": {
          "base_uri": "https://localhost:8080/"
        },
        "id": "zsh3x9_StWi3",
        "outputId": "04d02262-5b12-4c5c-f38b-12b247f4f043"
      },
      "execution_count": null,
      "outputs": [
        {
          "output_type": "stream",
          "name": "stdout",
          "text": [
            "{'B': 1, 'G': 0, 'I': 1, 'C': 0, 'O': 1, 'P': 1, 'N': 1, 'R': 1, 'D': 1, 'V': 1, 'X': 0, 'A': 0, 'U': 0, 'Q': 0, 'S': 0, 'Y': 1, 'T': 1, 'H': 1, 'W': 1, 'E': 0, 'K': 0, 'L': 0, 'J': 1, 'F': 0, 'M': 0}\n",
            "Starting State Fitness:  881\n",
            "Hill Climbing Solution Fitness:  915\n",
            "Beam Search Solution Fitness (Beam-Width = 3):  919\n",
            "Beam Search Solution Fitness (Beam-Width = 4):  919\n",
            "Neighbour 1:  {'B': 1, 'G': 0, 'I': 1, 'C': 0, 'O': 1, 'P': 1, 'N': 1, 'R': 1, 'D': 1, 'V': 1, 'X': 0, 'A': 0, 'U': 0, 'Q': 0, 'S': 1, 'Y': 1, 'T': 1, 'H': 1, 'W': 1, 'E': 0, 'K': 0, 'L': 0, 'J': 1, 'F': 0, 'M': 0}\n",
            "Neighbour 2:  {'B': 1, 'G': 0, 'I': 1, 'C': 0, 'O': 1, 'P': 1, 'N': 1, 'R': 1, 'D': 1, 'V': 1, 'X': 0, 'A': 0, 'U': 0, 'Q': 0, 'S': 0, 'Y': 1, 'T': 1, 'H': 1, 'W': 1, 'E': 0, 'K': 0, 'L': 0, 'J': 1, 'F': 0, 'M': 0}\n",
            "Neighbour 3:  {'B': 0, 'G': 0, 'I': 1, 'C': 0, 'O': 1, 'P': 1, 'N': 1, 'R': 1, 'D': 1, 'V': 1, 'X': 0, 'A': 0, 'U': 0, 'Q': 0, 'S': 0, 'Y': 1, 'T': 1, 'H': 1, 'W': 1, 'E': 0, 'K': 0, 'L': 0, 'J': 1, 'F': 0, 'M': 0}\n",
            "Variable-Neigbourhood-Descent Fitness:  881\n"
          ]
        }
      ]
    }
  ]
}